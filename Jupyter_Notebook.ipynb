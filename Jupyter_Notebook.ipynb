{
  "metadata": {
    "kernelspec": {
      "name": "python",
      "display_name": "Pyolite",
      "language": "python"
    },
    "language_info": {
      "codemirror_mode": {
        "name": "python",
        "version": 3
      },
      "file_extension": ".py",
      "mimetype": "text/x-python",
      "name": "python",
      "nbconvert_exporter": "python",
      "pygments_lexer": "ipython3",
      "version": "3.8"
    }
  },
  "nbformat_minor": 4,
  "nbformat": 4,
  "cells": [
    {
      "cell_type": "markdown",
      "source": "# My Jupyter Notebook on IBM Watson Studio",
      "metadata": {}
    },
    {
      "cell_type": "markdown",
      "source": "**Carlos Peralta**\nData Scientist",
      "metadata": {}
    },
    {
      "cell_type": "markdown",
      "source": "*The objective of taking this course is to learn to use machine learning for investment purposes.*\n*I already run a successful business. However, I would like to speed up my pprocess of analysis.*\n*To achieve that, at first I would like to apply machine learning with a regression model.*",
      "metadata": {}
    },
    {
      "cell_type": "markdown",
      "source": "### The code below is intended to display the result of adding 1 + 1",
      "metadata": {}
    },
    {
      "cell_type": "code",
      "source": "print(1+1)",
      "metadata": {
        "tags": [],
        "trusted": true
      },
      "execution_count": 3,
      "outputs": [
        {
          "name": "stdout",
          "text": "2\n",
          "output_type": "stream"
        }
      ]
    },
    {
      "cell_type": "markdown",
      "source": "<a href=\"https://dataplatform.cloud.ibm.com/gallery\">IBM Cloud Gallery</a> \n> blockquote\n---",
      "metadata": {}
    }
  ]
}